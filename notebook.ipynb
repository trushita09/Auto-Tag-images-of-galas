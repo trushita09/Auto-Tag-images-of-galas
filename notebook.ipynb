{
 "cells": [
  {
   "cell_type": "code",
   "execution_count": 50,
   "metadata": {},
   "outputs": [],
   "source": [
    "import os\n",
    "import numpy as np\n",
    "import pandas as pd\n",
    "import cv2\n",
    "import matplotlib.pyplot as plt\n",
    "from sklearn.preprocessing import LabelEncoder\n",
    "from sklearn.model_selection import train_test_split"
   ]
  },
  {
   "cell_type": "code",
   "execution_count": 51,
   "metadata": {},
   "outputs": [],
   "source": [
    "#loading the data\n",
    "train_data = pd.read_csv(\"dataset/train.csv\")\n",
    "test_data = pd.read_csv(\"dataset/test.csv\")"
   ]
  },
  {
   "cell_type": "code",
   "execution_count": 52,
   "metadata": {},
   "outputs": [
    {
     "data": {
      "text/html": [
       "<div>\n",
       "<style scoped>\n",
       "    .dataframe tbody tr th:only-of-type {\n",
       "        vertical-align: middle;\n",
       "    }\n",
       "\n",
       "    .dataframe tbody tr th {\n",
       "        vertical-align: top;\n",
       "    }\n",
       "\n",
       "    .dataframe thead th {\n",
       "        text-align: right;\n",
       "    }\n",
       "</style>\n",
       "<table border=\"1\" class=\"dataframe\">\n",
       "  <thead>\n",
       "    <tr style=\"text-align: right;\">\n",
       "      <th></th>\n",
       "      <th>Image</th>\n",
       "      <th>Class</th>\n",
       "    </tr>\n",
       "  </thead>\n",
       "  <tbody>\n",
       "    <tr>\n",
       "      <th>0</th>\n",
       "      <td>image7042.jpg</td>\n",
       "      <td>Food</td>\n",
       "    </tr>\n",
       "    <tr>\n",
       "      <th>1</th>\n",
       "      <td>image3327.jpg</td>\n",
       "      <td>misc</td>\n",
       "    </tr>\n",
       "    <tr>\n",
       "      <th>2</th>\n",
       "      <td>image10335.jpg</td>\n",
       "      <td>Attire</td>\n",
       "    </tr>\n",
       "    <tr>\n",
       "      <th>3</th>\n",
       "      <td>image8019.jpg</td>\n",
       "      <td>Food</td>\n",
       "    </tr>\n",
       "    <tr>\n",
       "      <th>4</th>\n",
       "      <td>image2128.jpg</td>\n",
       "      <td>Attire</td>\n",
       "    </tr>\n",
       "  </tbody>\n",
       "</table>\n",
       "</div>"
      ],
      "text/plain": [
       "            Image   Class\n",
       "0   image7042.jpg    Food\n",
       "1   image3327.jpg    misc\n",
       "2  image10335.jpg  Attire\n",
       "3   image8019.jpg    Food\n",
       "4   image2128.jpg  Attire"
      ]
     },
     "execution_count": 52,
     "metadata": {},
     "output_type": "execute_result"
    }
   ],
   "source": [
    "train_data.head()"
   ]
  },
  {
   "cell_type": "code",
   "execution_count": 53,
   "metadata": {},
   "outputs": [],
   "source": [
    "#Encoding the categorical values to numerical values\n",
    "le = LabelEncoder()\n",
    "train_data['Class']=le.fit_transform(train_data['Class'])\n",
    "# train_data['Class']"
   ]
  },
  {
   "cell_type": "code",
   "execution_count": 54,
   "metadata": {},
   "outputs": [],
   "source": [
    "#Separating the x_train and y_train\n",
    "x_train=[]\n",
    "y_train=[]\n",
    "i=0\n",
    "for img in train_data['Image']:\n",
    "    path = os.path.join(\"dataset/Train Images\",img)\n",
    "    train_img = cv2.imread(path)\n",
    "    train_img=cv2.resize(train_img,(100,100))\n",
    "    train_img = train_img.astype('float32')\n",
    "    x_train.append(train_img)\n",
    "    y_train.append(train_data['Class'][i])\n",
    "    i=i+1\n",
    "# print(x_train[0])\n"
   ]
  },
  {
   "cell_type": "code",
   "execution_count": 55,
   "metadata": {},
   "outputs": [],
   "source": [
    "from keras.preprocessing.image import ImageDataGenerator\n",
    "#Data Augmentation\n",
    "datagen = ImageDataGenerator(\n",
    "      featurewise_center=False,  # set input mean to 0 over the dataset\n",
    "        samplewise_center=False,  # set each sample mean to 0\n",
    "        featurewise_std_normalization=False,  # divide inputs by std of the dataset\n",
    "        samplewise_std_normalization=False,  # divide each input by its std\n",
    "        zca_whitening=False,  # apply ZCA whitening\n",
    "        rotation_range=10,  # randomly rotate images in the range (degrees, 0 to 180)\n",
    "        zoom_range = 0.1, # Randomly zoom image \n",
    "        width_shift_range=0.2,  # randomly shift images horizontally (fraction of total width)\n",
    "        height_shift_range=0.2,  # randomly shift images vertically (fraction of total height)\n",
    "        horizontal_flip=True,  # randomly flip images\n",
    "        vertical_flip=False)  # randomly flip images\n",
    "\n",
    "datagen.fit(x_train)"
   ]
  },
  {
   "cell_type": "code",
   "execution_count": 56,
   "metadata": {},
   "outputs": [],
   "source": [
    "x_test=[]\n",
    "for img in test_data['Image']:\n",
    "    path = os.path.join(\"dataset/Test Images\",img)\n",
    "    test_img = cv2.imread(path)\n",
    "    test_img=cv2.resize(test_img,(100,100))\n",
    "    test_img = test_img.astype('float32')\n",
    "    x_test.append(test_img)"
   ]
  },
  {
   "cell_type": "code",
   "execution_count": 57,
   "metadata": {
    "scrolled": false
   },
   "outputs": [
    {
     "name": "stdout",
     "output_type": "stream",
     "text": [
      "(5983, 100, 100, 3)\n",
      "(5983,)\n",
      "(3219, 100, 100, 3)\n"
     ]
    }
   ],
   "source": [
    "x_train=np.array(x_train)\n",
    "y_train=np.array(y_train)\n",
    "x_test=np.array(x_test)\n",
    "print(x_train.shape)\n",
    "print(y_train.shape)\n",
    "print(x_test.shape)"
   ]
  },
  {
   "cell_type": "code",
   "execution_count": 58,
   "metadata": {},
   "outputs": [],
   "source": [
    "import keras\n",
    "from keras.models import Sequential\n",
    "from keras.applications.resnet50 import ResNet50\n",
    "from keras.layers import Dense, Flatten, Conv2D, Dropout, Activation, MaxPooling2D\n",
    "from keras.losses import categorical_crossentropy\n",
    "from keras.optimizers import RMSprop, Adam\n",
    "from keras.callbacks import ReduceLROnPlateau\n",
    "from keras.preprocessing.image import ImageDataGenerator\n",
    "from tensorflow.keras.utils import to_categorical"
   ]
  },
  {
   "cell_type": "code",
   "execution_count": 59,
   "metadata": {},
   "outputs": [],
   "source": [
    "num_classes = 4\n",
    "batch_size = 128\n",
    "epochs = 20"
   ]
  },
  {
   "cell_type": "code",
   "execution_count": 60,
   "metadata": {},
   "outputs": [
    {
     "name": "stdout",
     "output_type": "stream",
     "text": [
      "Model: \"sequential_6\"\n",
      "_________________________________________________________________\n",
      "Layer (type)                 Output Shape              Param #   \n",
      "=================================================================\n",
      "resnet50 (Model)             (None, 2048)              23587712  \n",
      "_________________________________________________________________\n",
      "dense_3 (Dense)              (None, 4)                 8196      \n",
      "=================================================================\n",
      "Total params: 23,595,908\n",
      "Trainable params: 8,196\n",
      "Non-trainable params: 23,587,712\n",
      "_________________________________________________________________\n"
     ]
    }
   ],
   "source": [
    "#creating the model\n",
    "model = Sequential()\n",
    "model.add(ResNet50(include_top=False, pooling='avg', weights='imagenet', input_shape=(100,100,3)))\n",
    "model.add(Dense(num_classes, activation = \"softmax\"))\n",
    "model.layers[0].trainable = False\n",
    "model.summary()"
   ]
  },
  {
   "cell_type": "code",
   "execution_count": 61,
   "metadata": {},
   "outputs": [],
   "source": [
    "#compiling the model\n",
    "optimiser = Adam(learning_rate=0.001, beta_1=0.9, beta_2=0.999, amsgrad=False)\n",
    "model.compile(loss='categorical_crossentropy', optimizer=optimiser, metrics=['accuracy'])"
   ]
  },
  {
   "cell_type": "code",
   "execution_count": 62,
   "metadata": {},
   "outputs": [],
   "source": [
    "# Set a learning rate annealer\n",
    "learning_rate_reduction = ReduceLROnPlateau(monitor='loss', \n",
    "                                            patience=2, \n",
    "                                            verbose=1, \n",
    "                                            factor=0.5, \n",
    "                                            min_lr=0.00001)"
   ]
  },
  {
   "cell_type": "code",
   "execution_count": 63,
   "metadata": {},
   "outputs": [
    {
     "name": "stdout",
     "output_type": "stream",
     "text": [
      "Epoch 1/20\n",
      "47/47 [==============================] - 317s 7s/step - loss: 1.0163 - accuracy: 0.5857\n",
      "Epoch 2/20\n",
      "47/47 [==============================] - 122s 3s/step - loss: 0.7946 - accuracy: 0.6876\n",
      "Epoch 3/20\n",
      "47/47 [==============================] - 163s 3s/step - loss: 0.7435 - accuracy: 0.7157\n",
      "Epoch 4/20\n",
      "47/47 [==============================] - 126s 3s/step - loss: 0.6946 - accuracy: 0.7286\n",
      "Epoch 5/20\n",
      "47/47 [==============================] - 122s 3s/step - loss: 0.6717 - accuracy: 0.7404\n",
      "Epoch 6/20\n",
      "47/47 [==============================] - 132s 3s/step - loss: 0.6625 - accuracy: 0.7531\n",
      "Epoch 7/20\n",
      "47/47 [==============================] - 150s 3s/step - loss: 0.6471 - accuracy: 0.7498\n",
      "Epoch 8/20\n",
      "47/47 [==============================] - 150s 3s/step - loss: 0.6193 - accuracy: 0.7615\n",
      "Epoch 9/20\n",
      "47/47 [==============================] - 174s 4s/step - loss: 0.6189 - accuracy: 0.7592\n",
      "Epoch 10/20\n",
      "47/47 [==============================] - 172s 4s/step - loss: 0.6057 - accuracy: 0.7695\n",
      "Epoch 11/20\n",
      "47/47 [==============================] - 152s 3s/step - loss: 0.5986 - accuracy: 0.7640\n",
      "Epoch 12/20\n",
      "47/47 [==============================] - 120s 3s/step - loss: 0.5927 - accuracy: 0.7692\n",
      "Epoch 13/20\n",
      "47/47 [==============================] - 118s 3s/step - loss: 0.5875 - accuracy: 0.7698\n",
      "Epoch 14/20\n",
      "47/47 [==============================] - 117s 2s/step - loss: 0.5786 - accuracy: 0.7777\n",
      "Epoch 15/20\n",
      "47/47 [==============================] - 118s 3s/step - loss: 0.5836 - accuracy: 0.7785\n",
      "Epoch 16/20\n",
      "47/47 [==============================] - 117s 2s/step - loss: 0.5768 - accuracy: 0.7769\n",
      "Epoch 17/20\n",
      "47/47 [==============================] - 118s 3s/step - loss: 0.5657 - accuracy: 0.7822\n",
      "Epoch 18/20\n",
      "47/47 [==============================] - 118s 3s/step - loss: 0.5835 - accuracy: 0.7735\n",
      "Epoch 19/20\n",
      "47/47 [==============================] - 123s 3s/step - loss: 0.5634 - accuracy: 0.7772\n",
      "Epoch 20/20\n",
      "47/47 [==============================] - 150s 3s/step - loss: 0.5590 - accuracy: 0.7842\n"
     ]
    },
    {
     "data": {
      "text/plain": [
       "<keras.callbacks.callbacks.History at 0x7f6d4e0d0160>"
      ]
     },
     "execution_count": 63,
     "metadata": {},
     "output_type": "execute_result"
    }
   ],
   "source": [
    "model.fit_generator(datagen.flow(x_train,to_categorical(y_train,4), batch_size=batch_size),\n",
    "                              epochs = epochs,                          \n",
    "                              callbacks=[learning_rate_reduction], workers=4)\n",
    "# model.fit(x_train, to_categorical(y_train,4), batch_size=batch_size, epochs=epochs, callbacks=[learning_rate_reduction])"
   ]
  },
  {
   "cell_type": "code",
   "execution_count": 64,
   "metadata": {},
   "outputs": [
    {
     "name": "stdout",
     "output_type": "stream",
     "text": [
      "['misc' 'Food' 'misc' ... 'misc' 'misc' 'misc']\n"
     ]
    }
   ],
   "source": [
    "y_test = model.predict(x_test)\n",
    "label = [np.argmax(i) for i in y_test]\n",
    "y_test = le.inverse_transform(label)\n",
    "print(y_test)\n",
    "submission = pd.DataFrame({'Image':test_data.Image, 'Class':y_test})\n",
    "submission.to_csv('submission.csv',index=False)\n"
   ]
  },
  {
   "cell_type": "code",
   "execution_count": null,
   "metadata": {},
   "outputs": [],
   "source": []
  }
 ],
 "metadata": {
  "kernelspec": {
   "display_name": "Python 3",
   "language": "python",
   "name": "python3"
  },
  "language_info": {
   "codemirror_mode": {
    "name": "ipython",
    "version": 3
   },
   "file_extension": ".py",
   "mimetype": "text/x-python",
   "name": "python",
   "nbconvert_exporter": "python",
   "pygments_lexer": "ipython3",
   "version": "3.7.3"
  }
 },
 "nbformat": 4,
 "nbformat_minor": 2
}
